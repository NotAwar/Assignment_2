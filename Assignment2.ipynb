{
 "cells": [
  {
   "cell_type": "code",
   "execution_count": 1,
   "id": "d640c0c9",
   "metadata": {},
   "outputs": [],
   "source": [
    "\n",
    "\n",
    "#import functions and libraries\n",
    "\n",
    "import sklearn \n",
    "from sklearn.model_selection import train_test_split\n",
    "from sklearn.linear_model import LinearRegression\n",
    "from sklearn import metrics\n",
    "import pandas as pd\n",
    "import numpy as np\n",
    "import matplotlib.pyplot as plt\n",
    "import math\n",
    "import datetime\n",
    "%matplotlib inline \n",
    "\n",
    "\n"
   ]
  },
  {
   "cell_type": "code",
   "execution_count": 2,
   "id": "9ec30349",
   "metadata": {},
   "outputs": [],
   "source": [
    "\n",
    "#importing github raw with csb file for TSLA\n",
    "\n",
    "url = \"https://raw.githubusercontent.com/umaimehm/Intro_to_AI_2021/main/assignment2-machinelearning/TSLA.csv\"\n",
    "\n",
    "df = pd.read_csv(url, sep=',')\n",
    "df.set_index(pd.DatetimeIndex(df['Date']), inplace=True)\n"
   ]
  },
  {
   "cell_type": "code",
   "execution_count": 3,
   "id": "5c725ada",
   "metadata": {},
   "outputs": [
    {
     "data": {
      "text/html": [
       "<div>\n",
       "<style scoped>\n",
       "    .dataframe tbody tr th:only-of-type {\n",
       "        vertical-align: middle;\n",
       "    }\n",
       "\n",
       "    .dataframe tbody tr th {\n",
       "        vertical-align: top;\n",
       "    }\n",
       "\n",
       "    .dataframe thead th {\n",
       "        text-align: right;\n",
       "    }\n",
       "</style>\n",
       "<table border=\"1\" class=\"dataframe\">\n",
       "  <thead>\n",
       "    <tr style=\"text-align: right;\">\n",
       "      <th></th>\n",
       "      <th>Date</th>\n",
       "      <th>Open</th>\n",
       "      <th>High</th>\n",
       "      <th>Low</th>\n",
       "      <th>Close</th>\n",
       "      <th>Adj Close</th>\n",
       "      <th>Volume</th>\n",
       "    </tr>\n",
       "    <tr>\n",
       "      <th>Date</th>\n",
       "      <th></th>\n",
       "      <th></th>\n",
       "      <th></th>\n",
       "      <th></th>\n",
       "      <th></th>\n",
       "      <th></th>\n",
       "      <th></th>\n",
       "    </tr>\n",
       "  </thead>\n",
       "  <tbody>\n",
       "    <tr>\n",
       "      <th>2010-06-29</th>\n",
       "      <td>2010-06-29</td>\n",
       "      <td>3.800000</td>\n",
       "      <td>5.000000</td>\n",
       "      <td>3.508000</td>\n",
       "      <td>4.778000</td>\n",
       "      <td>4.778000</td>\n",
       "      <td>93831500</td>\n",
       "    </tr>\n",
       "    <tr>\n",
       "      <th>2010-06-30</th>\n",
       "      <td>2010-06-30</td>\n",
       "      <td>5.158000</td>\n",
       "      <td>6.084000</td>\n",
       "      <td>4.660000</td>\n",
       "      <td>4.766000</td>\n",
       "      <td>4.766000</td>\n",
       "      <td>85935500</td>\n",
       "    </tr>\n",
       "    <tr>\n",
       "      <th>2010-07-01</th>\n",
       "      <td>2010-07-01</td>\n",
       "      <td>5.000000</td>\n",
       "      <td>5.184000</td>\n",
       "      <td>4.054000</td>\n",
       "      <td>4.392000</td>\n",
       "      <td>4.392000</td>\n",
       "      <td>41094000</td>\n",
       "    </tr>\n",
       "    <tr>\n",
       "      <th>2010-07-02</th>\n",
       "      <td>2010-07-02</td>\n",
       "      <td>4.600000</td>\n",
       "      <td>4.620000</td>\n",
       "      <td>3.742000</td>\n",
       "      <td>3.840000</td>\n",
       "      <td>3.840000</td>\n",
       "      <td>25699000</td>\n",
       "    </tr>\n",
       "    <tr>\n",
       "      <th>2010-07-06</th>\n",
       "      <td>2010-07-06</td>\n",
       "      <td>4.000000</td>\n",
       "      <td>4.000000</td>\n",
       "      <td>3.166000</td>\n",
       "      <td>3.222000</td>\n",
       "      <td>3.222000</td>\n",
       "      <td>34334500</td>\n",
       "    </tr>\n",
       "    <tr>\n",
       "      <th>...</th>\n",
       "      <td>...</td>\n",
       "      <td>...</td>\n",
       "      <td>...</td>\n",
       "      <td>...</td>\n",
       "      <td>...</td>\n",
       "      <td>...</td>\n",
       "      <td>...</td>\n",
       "    </tr>\n",
       "    <tr>\n",
       "      <th>2021-10-08</th>\n",
       "      <td>2021-10-08</td>\n",
       "      <td>796.210022</td>\n",
       "      <td>796.380005</td>\n",
       "      <td>780.909973</td>\n",
       "      <td>785.489990</td>\n",
       "      <td>785.489990</td>\n",
       "      <td>16711100</td>\n",
       "    </tr>\n",
       "    <tr>\n",
       "      <th>2021-10-11</th>\n",
       "      <td>2021-10-11</td>\n",
       "      <td>787.650024</td>\n",
       "      <td>801.239990</td>\n",
       "      <td>785.500000</td>\n",
       "      <td>791.940002</td>\n",
       "      <td>791.940002</td>\n",
       "      <td>14200300</td>\n",
       "    </tr>\n",
       "    <tr>\n",
       "      <th>2021-10-12</th>\n",
       "      <td>2021-10-12</td>\n",
       "      <td>800.929993</td>\n",
       "      <td>812.320007</td>\n",
       "      <td>796.570007</td>\n",
       "      <td>805.719971</td>\n",
       "      <td>805.719971</td>\n",
       "      <td>22020000</td>\n",
       "    </tr>\n",
       "    <tr>\n",
       "      <th>2021-10-13</th>\n",
       "      <td>2021-10-13</td>\n",
       "      <td>810.469971</td>\n",
       "      <td>815.409973</td>\n",
       "      <td>805.780029</td>\n",
       "      <td>811.080017</td>\n",
       "      <td>811.080017</td>\n",
       "      <td>14120100</td>\n",
       "    </tr>\n",
       "    <tr>\n",
       "      <th>2021-10-14</th>\n",
       "      <td>2021-10-14</td>\n",
       "      <td>815.489990</td>\n",
       "      <td>820.250000</td>\n",
       "      <td>813.349976</td>\n",
       "      <td>818.320007</td>\n",
       "      <td>818.320007</td>\n",
       "      <td>12203200</td>\n",
       "    </tr>\n",
       "  </tbody>\n",
       "</table>\n",
       "<p>2845 rows × 7 columns</p>\n",
       "</div>"
      ],
      "text/plain": [
       "                  Date        Open        High         Low       Close  \\\n",
       "Date                                                                     \n",
       "2010-06-29  2010-06-29    3.800000    5.000000    3.508000    4.778000   \n",
       "2010-06-30  2010-06-30    5.158000    6.084000    4.660000    4.766000   \n",
       "2010-07-01  2010-07-01    5.000000    5.184000    4.054000    4.392000   \n",
       "2010-07-02  2010-07-02    4.600000    4.620000    3.742000    3.840000   \n",
       "2010-07-06  2010-07-06    4.000000    4.000000    3.166000    3.222000   \n",
       "...                ...         ...         ...         ...         ...   \n",
       "2021-10-08  2021-10-08  796.210022  796.380005  780.909973  785.489990   \n",
       "2021-10-11  2021-10-11  787.650024  801.239990  785.500000  791.940002   \n",
       "2021-10-12  2021-10-12  800.929993  812.320007  796.570007  805.719971   \n",
       "2021-10-13  2021-10-13  810.469971  815.409973  805.780029  811.080017   \n",
       "2021-10-14  2021-10-14  815.489990  820.250000  813.349976  818.320007   \n",
       "\n",
       "             Adj Close    Volume  \n",
       "Date                              \n",
       "2010-06-29    4.778000  93831500  \n",
       "2010-06-30    4.766000  85935500  \n",
       "2010-07-01    4.392000  41094000  \n",
       "2010-07-02    3.840000  25699000  \n",
       "2010-07-06    3.222000  34334500  \n",
       "...                ...       ...  \n",
       "2021-10-08  785.489990  16711100  \n",
       "2021-10-11  791.940002  14200300  \n",
       "2021-10-12  805.719971  22020000  \n",
       "2021-10-13  811.080017  14120100  \n",
       "2021-10-14  818.320007  12203200  \n",
       "\n",
       "[2845 rows x 7 columns]"
      ]
     },
     "execution_count": 3,
     "metadata": {},
     "output_type": "execute_result"
    }
   ],
   "source": [
    "df"
   ]
  },
  {
   "cell_type": "code",
   "execution_count": 4,
   "id": "2dd05415",
   "metadata": {},
   "outputs": [],
   "source": [
    "x = df[['High','Low','Open','Volume']].values\n",
    "y = df['Close'].values"
   ]
  },
  {
   "cell_type": "code",
   "execution_count": 5,
   "id": "85b3a490",
   "metadata": {},
   "outputs": [],
   "source": [
    "\n",
    "#training model\n",
    "\n",
    "x_train,x_test,y_train,y_test =  train_test_split(x,y,test_size=0.2,random_state=0)"
   ]
  },
  {
   "cell_type": "code",
   "execution_count": 6,
   "id": "0f65c6e4",
   "metadata": {},
   "outputs": [],
   "source": [
    "regressor = LinearRegression()"
   ]
  },
  {
   "cell_type": "code",
   "execution_count": 7,
   "id": "c8a35a0a",
   "metadata": {},
   "outputs": [
    {
     "data": {
      "text/plain": [
       "LinearRegression()"
      ]
     },
     "execution_count": 7,
     "metadata": {},
     "output_type": "execute_result"
    }
   ],
   "source": [
    "# using linear regression based on previous data\n",
    "regressor.fit(x_train,y_train)"
   ]
  },
  {
   "cell_type": "code",
   "execution_count": 8,
   "id": "22883cb3",
   "metadata": {},
   "outputs": [
    {
     "name": "stdout",
     "output_type": "stream",
     "text": [
      "[ 9.67526692e-01  6.62921370e-01 -6.34627090e-01 -5.28288450e-09]\n"
     ]
    }
   ],
   "source": [
    "print(regressor.coef_)"
   ]
  },
  {
   "cell_type": "code",
   "execution_count": 9,
   "id": "5cc23906",
   "metadata": {},
   "outputs": [
    {
     "name": "stdout",
     "output_type": "stream",
     "text": [
      "0.10122765785403942\n"
     ]
    }
   ],
   "source": [
    "print(regressor.intercept_)"
   ]
  },
  {
   "cell_type": "code",
   "execution_count": 10,
   "id": "e2b43e13",
   "metadata": {},
   "outputs": [],
   "source": [
    "predicted = regressor.predict(x_test)"
   ]
  },
  {
   "cell_type": "code",
   "execution_count": 11,
   "id": "ca11a0b7",
   "metadata": {},
   "outputs": [],
   "source": [
    "\n",
    "\n",
    "# making a dframe to check actual vs predicted results\n",
    "dframe = pd.DataFrame({'Actual':y_test.flatten(),'Predicted':predicted.flatten()})"
   ]
  },
  {
   "cell_type": "code",
   "execution_count": 12,
   "id": "4fcf079a",
   "metadata": {},
   "outputs": [
    {
     "data": {
      "text/html": [
       "<div>\n",
       "<style scoped>\n",
       "    .dataframe tbody tr th:only-of-type {\n",
       "        vertical-align: middle;\n",
       "    }\n",
       "\n",
       "    .dataframe tbody tr th {\n",
       "        vertical-align: top;\n",
       "    }\n",
       "\n",
       "    .dataframe thead th {\n",
       "        text-align: right;\n",
       "    }\n",
       "</style>\n",
       "<table border=\"1\" class=\"dataframe\">\n",
       "  <thead>\n",
       "    <tr style=\"text-align: right;\">\n",
       "      <th></th>\n",
       "      <th>Actual</th>\n",
       "      <th>Predicted</th>\n",
       "    </tr>\n",
       "  </thead>\n",
       "  <tbody>\n",
       "    <tr>\n",
       "      <th>0</th>\n",
       "      <td>38.436001</td>\n",
       "      <td>38.610541</td>\n",
       "    </tr>\n",
       "    <tr>\n",
       "      <th>1</th>\n",
       "      <td>673.580017</td>\n",
       "      <td>664.424655</td>\n",
       "    </tr>\n",
       "    <tr>\n",
       "      <th>2</th>\n",
       "      <td>5.582000</td>\n",
       "      <td>5.628072</td>\n",
       "    </tr>\n",
       "    <tr>\n",
       "      <th>3</th>\n",
       "      <td>7.094000</td>\n",
       "      <td>7.098933</td>\n",
       "    </tr>\n",
       "    <tr>\n",
       "      <th>4</th>\n",
       "      <td>156.376007</td>\n",
       "      <td>160.346724</td>\n",
       "    </tr>\n",
       "    <tr>\n",
       "      <th>5</th>\n",
       "      <td>48.243999</td>\n",
       "      <td>47.964242</td>\n",
       "    </tr>\n",
       "    <tr>\n",
       "      <th>6</th>\n",
       "      <td>45.001999</td>\n",
       "      <td>45.239484</td>\n",
       "    </tr>\n",
       "    <tr>\n",
       "      <th>7</th>\n",
       "      <td>48.556000</td>\n",
       "      <td>48.913865</td>\n",
       "    </tr>\n",
       "    <tr>\n",
       "      <th>8</th>\n",
       "      <td>46.464001</td>\n",
       "      <td>46.800102</td>\n",
       "    </tr>\n",
       "    <tr>\n",
       "      <th>9</th>\n",
       "      <td>4.592000</td>\n",
       "      <td>4.611518</td>\n",
       "    </tr>\n",
       "    <tr>\n",
       "      <th>10</th>\n",
       "      <td>62.084000</td>\n",
       "      <td>60.344226</td>\n",
       "    </tr>\n",
       "    <tr>\n",
       "      <th>11</th>\n",
       "      <td>791.359985</td>\n",
       "      <td>792.355906</td>\n",
       "    </tr>\n",
       "    <tr>\n",
       "      <th>12</th>\n",
       "      <td>3.756000</td>\n",
       "      <td>3.805511</td>\n",
       "    </tr>\n",
       "    <tr>\n",
       "      <th>13</th>\n",
       "      <td>40.619999</td>\n",
       "      <td>41.027111</td>\n",
       "    </tr>\n",
       "    <tr>\n",
       "      <th>14</th>\n",
       "      <td>576.830017</td>\n",
       "      <td>577.281476</td>\n",
       "    </tr>\n",
       "    <tr>\n",
       "      <th>15</th>\n",
       "      <td>5.468000</td>\n",
       "      <td>5.487355</td>\n",
       "    </tr>\n",
       "    <tr>\n",
       "      <th>16</th>\n",
       "      <td>47.444000</td>\n",
       "      <td>47.269002</td>\n",
       "    </tr>\n",
       "    <tr>\n",
       "      <th>17</th>\n",
       "      <td>5.364000</td>\n",
       "      <td>5.446747</td>\n",
       "    </tr>\n",
       "    <tr>\n",
       "      <th>18</th>\n",
       "      <td>68.800003</td>\n",
       "      <td>68.339173</td>\n",
       "    </tr>\n",
       "    <tr>\n",
       "      <th>19</th>\n",
       "      <td>5.170000</td>\n",
       "      <td>5.403811</td>\n",
       "    </tr>\n",
       "  </tbody>\n",
       "</table>\n",
       "</div>"
      ],
      "text/plain": [
       "        Actual   Predicted\n",
       "0    38.436001   38.610541\n",
       "1   673.580017  664.424655\n",
       "2     5.582000    5.628072\n",
       "3     7.094000    7.098933\n",
       "4   156.376007  160.346724\n",
       "5    48.243999   47.964242\n",
       "6    45.001999   45.239484\n",
       "7    48.556000   48.913865\n",
       "8    46.464001   46.800102\n",
       "9     4.592000    4.611518\n",
       "10   62.084000   60.344226\n",
       "11  791.359985  792.355906\n",
       "12    3.756000    3.805511\n",
       "13   40.619999   41.027111\n",
       "14  576.830017  577.281476\n",
       "15    5.468000    5.487355\n",
       "16   47.444000   47.269002\n",
       "17    5.364000    5.446747\n",
       "18   68.800003   68.339173\n",
       "19    5.170000    5.403811"
      ]
     },
     "execution_count": 12,
     "metadata": {},
     "output_type": "execute_result"
    }
   ],
   "source": [
    "dframe.head(20)"
   ]
  },
  {
   "cell_type": "code",
   "execution_count": 13,
   "id": "a6aeec36",
   "metadata": {},
   "outputs": [
    {
     "name": "stdout",
     "output_type": "stream",
     "text": [
      "Mean Absolute Difference: 0.9653622592148507\n",
      "Mean Squared Difference: 6.616145787760759\n",
      "Root Mean Squared Difference: 2.572186965941776\n"
     ]
    }
   ],
   "source": [
    "\n",
    "# checking for difference/error in code\n",
    "\n",
    "print('Mean Absolute Difference:', metrics.mean_absolute_error(y_test,predicted))\n",
    "print('Mean Squared Difference:', metrics.mean_squared_error(y_test,predicted))\n",
    "print('Root Mean Squared Difference:', math.sqrt(metrics.mean_squared_error(y_test,predicted)))\n"
   ]
  },
  {
   "cell_type": "code",
   "execution_count": 14,
   "id": "ea8ced39",
   "metadata": {},
   "outputs": [],
   "source": [
    "graph = dframe.head(20)"
   ]
  },
  {
   "cell_type": "code",
   "execution_count": 15,
   "id": "b044e936",
   "metadata": {},
   "outputs": [
    {
     "data": {
      "text/plain": [
       "<AxesSubplot:>"
      ]
     },
     "execution_count": 15,
     "metadata": {},
     "output_type": "execute_result"
    },
    {
     "data": {
      "image/png": "[encoded data removed]",
      "text/plain": [
       "<Figure size 432x288 with 1 Axes>"
      ]
     },
     "metadata": {
      "needs_background": "light"
     },
     "output_type": "display_data"
    }
   ],
   "source": [
    "#plotting for actual v predicted\n",
    "\n",
    "graph.plot(kind='bar')"
   ]
  },
  {
   "cell_type": "code",
   "execution_count": 21,
   "id": "cf77925c",
   "metadata": {},
   "outputs": [],
   "source": [
    "# setting up for forecast, actual future predictions\n",
    "forecast_col = 'Adj Close'\n",
    "df.fillna(value=-99999, inplace=True)\n",
    "forecast_out = int(math.ceil(0.01 * len(df)))\n",
    "df['label'] = df[forecast_col].shift(-forecast_out)\n",
    "\n",
    "x = np.array(df.drop(['label'], 1))\n",
    "x_lately = x[-forecast_out:]\n",
    "x = x[:-forecast_out]\n",
    "\n",
    "x = x.flatten('C')\n",
    "\n",
    "\n",
    "df.dropna(inplace=True)\n",
    "\n",
    "y = np.array(df['label'])\n",
    "\n",
    "\n",
    "clf = LinearRegression(n_jobs=-1)\n",
    "clf.fit(x_train, y_train)\n",
    "confidence = clf.score(x_test, y_test)\n",
    "\n",
    "forecast_set = clf.predict(x_test) # dummy x value, because other x values fail\n",
    "df['Forecast'] = np.nan\n",
    "\n",
    "last_date = df.iloc[-1].name\n",
    "last_unix = last_date.timestamp()\n",
    "one_day = 86400\n",
    "next_unix = last_unix + one_day\n",
    "\n",
    "\n",
    "\n",
    "for i in forecast_set:\n",
    "    next_date = datetime.datetime.fromtimestamp(next_unix)\n",
    "    next_unix += 86400\n",
    "    df.loc[next_date] = [np.nan for _ in range(len(df.columns)-1)]+[i]\n"
   ]
  },
  {
   "cell_type": "code",
   "execution_count": 20,
   "id": "4881c936",
   "metadata": {},
   "outputs": [
    {
     "data": {
      "image/png": "[encoded data removed]",
      "text/plain": [
       "<Figure size 432x288 with 1 Axes>"
      ]
     },
     "metadata": {
      "needs_background": "light"
     },
     "output_type": "display_data"
    }
   ],
   "source": [
    "#Failing to show forecast because of incorrect x-values \n",
    "#Also missing input values for x prediction so that you can choose a certain date\n",
    "\n",
    "df['Close'].plot()\n",
    "df['Forecast'].plot()\n",
    "plt.legend(loc=4)\n",
    "plt.xlabel('Date')\n",
    "plt.ylabel('Price')\n",
    "plt.show()"
   ]
  },
  {
   "cell_type": "code",
   "execution_count": null,
   "id": "8c597747",
   "metadata": {},
   "outputs": [],
   "source": []
  }
 ],
 "metadata": {
  "kernelspec": {
   "display_name": "Python 3",
   "language": "python",
   "name": "python3"
  },
  "language_info": {
   "codemirror_mode": {
    "name": "ipython",
    "version": 3
   },
   "file_extension": ".py",
   "mimetype": "text/x-python",
   "name": "python",
   "nbconvert_exporter": "python",
   "pygments_lexer": "ipython3",
   "version": "3.8.8"
  }
 },
 "nbformat": 4,
 "nbformat_minor": 5
}
